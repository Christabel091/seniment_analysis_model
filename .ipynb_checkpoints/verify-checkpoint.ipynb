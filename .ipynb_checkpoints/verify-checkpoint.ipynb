{
 "cells": [
  {
   "cell_type": "code",
   "execution_count": 2,
   "id": "02bc849f-03d1-4b62-9e8d-4d66cc3db1e2",
   "metadata": {},
   "outputs": [
    {
     "name": "stdout",
     "output_type": "stream",
     "text": [
      "verficiation done\n"
     ]
    }
   ],
   "source": [
    "print(\"verficiation done\")\n"
   ]
  },
  {
   "cell_type": "code",
   "execution_count": 5,
   "id": "5751bfd4-bbfc-454f-86c6-d283af226548",
   "metadata": {},
   "outputs": [
    {
     "name": "stdin",
     "output_type": "stream",
     "text": [
      "Enter a number -1\n"
     ]
    },
    {
     "name": "stdout",
     "output_type": "stream",
     "text": [
      "GOOD BYE\n"
     ]
    }
   ],
   "source": [
    "x = int(input(\"Enter a number\"))\n",
    "if (x > 10):\n",
    "    print(x, \"is bigger than 10\")\n",
    "else:\n",
    "    print(\"GOOD BYE\")"
   ]
  },
  {
   "cell_type": "code",
   "execution_count": null,
   "id": "21682318-8f6c-4537-9c65-e0dc4d04e871",
   "metadata": {},
   "outputs": [],
   "source": []
  }
 ],
 "metadata": {
  "kernelspec": {
   "display_name": "Python (ml_translation_env)",
   "language": "python",
   "name": "ml_translation_env"
  },
  "language_info": {
   "codemirror_mode": {
    "name": "ipython",
    "version": 3
   },
   "file_extension": ".py",
   "mimetype": "text/x-python",
   "name": "python",
   "nbconvert_exporter": "python",
   "pygments_lexer": "ipython3",
   "version": "3.12.3"
  }
 },
 "nbformat": 4,
 "nbformat_minor": 5
}
