{
 "cells": [
  {
   "cell_type": "code",
   "execution_count": 5,
   "metadata": {},
   "outputs": [
    {
     "name": "stderr",
     "output_type": "stream",
     "text": [
      "[nltk_data] Downloading package punkt to\n",
      "[nltk_data]     C:\\Users\\obinw\\AppData\\Roaming\\nltk_data...\n",
      "[nltk_data]   Package punkt is already up-to-date!\n",
      "[nltk_data] Downloading package stopwords to\n",
      "[nltk_data]     C:\\Users\\obinw\\AppData\\Roaming\\nltk_data...\n",
      "[nltk_data]   Package stopwords is already up-to-date!\n"
     ]
    }
   ],
   "source": [
    "import numpy as np\n",
    "import nltk # type: ignore \n",
    "nltk.download('punkt')\n",
    "nltk.download('stopwords')\n",
    "from nltk.tokenize import word_tokenize # type: ignore\n",
    "from nltk.corpus import stopwords # type: ignore\n",
    "import string\n",
    "import numpy as np\n",
    "from preprocess import extract_features, build_freq, word_freq\n"
   ]
  },
  {
   "cell_type": "code",
   "execution_count": 6,
   "metadata": {},
   "outputs": [],
   "source": [
    "file_path_positive = '../data/positive_tweets.txt'\n",
    "file_path_negative = '../data/negative_tweets.txt'\n",
    "\n",
    "pos_freqs = build_freq(file_path_positive)  # Build frequency dictionary\n",
    "# print(\"The psoitive frequency\")\n",
    "# print(pos_freqs)\n",
    "neg_freqs = build_freq(file_path_negative)\n",
    "# print(\"The negative frquency\")\n",
    "# print(neg_freqs)\n",
    "word_f = word_freq(pos_freqs, neg_freqs, \"../data/sample_sentiment_text.txt\")\n",
    "#print(\"The frequency of the sentences ares \", word_f)\n",
    "matrix = extract_features(word_f)"
   ]
  },
  {
   "cell_type": "code",
   "execution_count": 16,
   "metadata": {},
   "outputs": [
    {
     "name": "stdout",
     "output_type": "stream",
     "text": [
      "0.45239463635418925\n",
      "0.45983671857787534\n",
      "0.46978685356447\n",
      "0.46978685356447\n",
      "0.46480828456469886\n",
      "0.4797610644281854\n",
      "0.4797610644281854\n",
      "0.4847547270119201\n",
      "0.4722784572508355\n",
      "0.48225745272227183\n",
      "0.4722784572508355\n",
      "0.4872527628438865\n",
      "0.47726568640604844\n",
      "0.4573538673545378\n",
      "0.46978685356447\n",
      "0.46978685356447\n"
     ]
    }
   ],
   "source": [
    "#I am building my classification model\n",
    "#the logixtic model\n",
    "import math\n",
    "#initialize the parameters\n",
    "b = 0.05\n",
    "parameter = np.array([0.001, 0.01, 0.01])\n",
    "for row in matrix:\n",
    "    feature = row\n",
    "    z = np.dot(feature, parameter) + b\n",
    "    g = 1/(1+(math.e)**(z))\n",
    "    print(g)\n"
   ]
  },
  {
   "cell_type": "code",
   "execution_count": null,
   "metadata": {},
   "outputs": [],
   "source": [
    "#next, make a cost function and minimize the loss\n",
    "#then compute the gradient"
   ]
  }
 ],
 "metadata": {
  "kernelspec": {
   "display_name": "venv",
   "language": "python",
   "name": "python3"
  },
  "language_info": {
   "codemirror_mode": {
    "name": "ipython",
    "version": 3
   },
   "file_extension": ".py",
   "mimetype": "text/x-python",
   "name": "python",
   "nbconvert_exporter": "python",
   "pygments_lexer": "ipython3",
   "version": "3.12.3"
  }
 },
 "nbformat": 4,
 "nbformat_minor": 2
}
