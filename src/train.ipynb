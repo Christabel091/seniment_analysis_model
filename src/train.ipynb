{
 "cells": [
  {
   "cell_type": "code",
   "execution_count": 2,
   "metadata": {},
   "outputs": [
    {
     "name": "stderr",
     "output_type": "stream",
     "text": [
      "[nltk_data] Downloading package punkt to\n",
      "[nltk_data]     C:\\Users\\obinw\\AppData\\Roaming\\nltk_data...\n",
      "[nltk_data]   Package punkt is already up-to-date!\n",
      "[nltk_data] Downloading package stopwords to\n",
      "[nltk_data]     C:\\Users\\obinw\\AppData\\Roaming\\nltk_data...\n",
      "[nltk_data]   Package stopwords is already up-to-date!\n"
     ]
    }
   ],
   "source": [
    "import numpy as np\n",
    "import nltk # type: ignore \n",
    "nltk.download('punkt')\n",
    "nltk.download('stopwords')\n",
    "from nltk.tokenize import word_tokenize # type: ignore\n",
    "from nltk.corpus import stopwords # type: ignore\n",
    "import string\n",
    "import numpy as np\n",
    "from preprocess import extract_features, build_freq, word_freq\n"
   ]
  },
  {
   "cell_type": "code",
   "execution_count": 3,
   "metadata": {},
   "outputs": [
    {
     "name": "stdout",
     "output_type": "stream",
     "text": [
      "[[ 1.  9.  5.]\n",
      " [ 1.  4.  7.]\n",
      " [ 1.  6.  1.]\n",
      " [ 1.  7.  0.]\n",
      " [ 1.  2.  7.]\n",
      " [ 1.  1.  2.]\n",
      " [ 1.  2.  1.]\n",
      " [ 1.  1.  0.]\n",
      " [ 1.  3.  3.]\n",
      " [ 1.  1.  1.]\n",
      " [ 1.  3.  3.]\n",
      " [ 1.  0.  0.]\n",
      " [ 1.  2.  2.]\n",
      " [ 1. 12.  0.]\n",
      " [ 1.  2.  5.]\n",
      " [ 1.  0.  7.]]\n"
     ]
    }
   ],
   "source": [
    "file_path_positive = '../data/positive_tweets.txt'\n",
    "file_path_negative = '../data/negative_tweets.txt'\n",
    "\n",
    "pos_freqs = build_freq(file_path_positive)  # Build frequency dictionary\n",
    "# print(\"The psoitive frequency\")\n",
    "# print(pos_freqs)\n",
    "neg_freqs = build_freq(file_path_negative)\n",
    "# print(\"The negative frquency\")\n",
    "# print(neg_freqs)\n",
    "word_f = word_freq(pos_freqs, neg_freqs, \"../data/sample_sentiment_text.txt\")\n",
    "#print(\"The frequency of the sentences ares \", word_f)\n",
    "matrix = extract_features(word_f)\n",
    "print(matrix)"
   ]
  },
  {
   "cell_type": "code",
   "execution_count": 20,
   "metadata": {},
   "outputs": [
    {
     "name": "stdout",
     "output_type": "stream",
     "text": [
      "[0.45239463635418925, 0.45983671857787534, 0.46978685356447, 0.46978685356447, 0.46480828456469886, 0.4797610644281854, 0.4797610644281854, 0.4847547270119201, 0.4722784572508355, 0.48225745272227183, 0.4722784572508355, 0.4872527628438865, 0.47726568640604844, 0.4573538673545378, 0.46978685356447, 0.46978685356447]\n"
     ]
    }
   ],
   "source": [
    "#I am building my classification model\n",
    "#the logixtic model\n",
    "import math\n",
    "#initialize the parameters\n",
    "b = 0.05\n",
    "parameter = np.array([0.001, 0.01, 0.01])\n",
    "y_hat = []\n",
    "for row in matrix:\n",
    "    feature = row\n",
    "    z = np.dot(feature, parameter) + b\n",
    "    g = 1/(1+(math.e)**(z))\n",
    "    y_hat.append(g)\n",
    "print(y_hat)\n",
    "    \n"
   ]
  },
  {
   "cell_type": "code",
   "execution_count": 28,
   "metadata": {},
   "outputs": [
    {
     "name": "stdout",
     "output_type": "stream",
     "text": [
      "    1\n",
      "0   0\n",
      "1   2\n",
      "2   1\n",
      "3   0\n",
      "4   1\n",
      "5   0\n",
      "6   0\n",
      "7   1\n",
      "8   1\n",
      "9   1\n",
      "10  1\n",
      "11  1\n",
      "12  1\n",
      "13  0\n",
      "[[0]\n",
      " [2]\n",
      " [1]\n",
      " [0]\n",
      " [1]\n",
      " [0]\n",
      " [0]\n",
      " [1]\n",
      " [1]\n",
      " [1]\n",
      " [1]\n",
      " [1]\n",
      " [1]\n",
      " [0]]\n"
     ]
    }
   ],
   "source": [
    "import pandas as pd\n",
    "df = pd.read_csv(\"../data/output.txt\")\n",
    "print(df)\n",
    "m = len(df)\n",
    "target = df.values\n",
    "print(target)"
   ]
  },
  {
   "cell_type": "code",
   "execution_count": 31,
   "metadata": {},
   "outputs": [
    {
     "name": "stdout",
     "output_type": "stream",
     "text": [
      "loss =  0.6022003907914684\n",
      "loss =  0.9378838121253865\n",
      "loss =  0.7554761901959626\n",
      "loss =  0.634476190195963\n",
      "loss =  0.7661302496689021\n",
      "loss =  0.6534670814562904\n",
      "loss =  0.6534670814562904\n",
      "loss =  0.7241122334640739\n",
      "loss =  0.7501865155471161\n",
      "loss =  0.7292771732519026\n",
      "loss =  0.7501865155471161\n",
      "loss =  0.718972270330632\n",
      "loss =  0.7396819485957433\n",
      "loss =  0.6112978609090919\n",
      "cost = 0.71620110810971\n"
     ]
    }
   ],
   "source": [
    "#getting my cost and loss functions\n",
    "import math\n",
    "#compute the loss function\n",
    "def loss_function():\n",
    "    cost = 0\n",
    "    for x in range(m):\n",
    "        output = target[x,0]\n",
    "        loss = (-1 *output * math.log(y_hat[x])) - (1-output) * math.log(1-y_hat[x])\n",
    "        print(\"loss = \", loss)\n",
    "        cost +=loss\n",
    "    return cost\n",
    "cost = loss_function()\n",
    "cost =  cost/m\n",
    "print(\"cost =\", cost)"
   ]
  },
  {
   "cell_type": "code",
   "execution_count": 17,
   "metadata": {},
   "outputs": [],
   "source": [
    "\n",
    "#then compute the gradient\n",
    "rate = 0.0001\n",
    "def gradient_descent():\n",
    "    #gradient_functuion goes here"
   ]
  },
  {
   "cell_type": "code",
   "execution_count": null,
   "metadata": {},
   "outputs": [],
   "source": []
  }
 ],
 "metadata": {
  "kernelspec": {
   "display_name": "Python 3 (ipykernel)",
   "language": "python",
   "name": "python3"
  },
  "language_info": {
   "codemirror_mode": {
    "name": "ipython",
    "version": 3
   },
   "file_extension": ".py",
   "mimetype": "text/x-python",
   "name": "python",
   "nbconvert_exporter": "python",
   "pygments_lexer": "ipython3",
   "version": "3.12.3"
  }
 },
 "nbformat": 4,
 "nbformat_minor": 4
}
