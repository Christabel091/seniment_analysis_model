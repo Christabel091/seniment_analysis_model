{
 "cells": [
  {
   "cell_type": "code",
   "execution_count": 8,
   "metadata": {},
   "outputs": [
    {
     "name": "stderr",
     "output_type": "stream",
     "text": [
      "[nltk_data] Downloading package punkt to\n",
      "[nltk_data]     C:\\Users\\obinw\\AppData\\Roaming\\nltk_data...\n",
      "[nltk_data]   Package punkt is already up-to-date!\n",
      "[nltk_data] Downloading package stopwords to\n",
      "[nltk_data]     C:\\Users\\obinw\\AppData\\Roaming\\nltk_data...\n",
      "[nltk_data]   Package stopwords is already up-to-date!\n"
     ]
    }
   ],
   "source": [
    "import numpy as np\n",
    "import nltk # type: ignore \n",
    "nltk.download('punkt')\n",
    "nltk.download('stopwords')\n",
    "from nltk.tokenize import word_tokenize # type: ignore\n",
    "from nltk.corpus import stopwords # type: ignore\n",
    "import string\n",
    "import numpy as np\n",
    "from preprocess import extract_features, build_freq, word_freq\n",
    "from sklearn.preprocessing import MinMaxScaler\n"
   ]
  },
  {
   "cell_type": "code",
   "execution_count": 9,
   "metadata": {},
   "outputs": [
    {
     "name": "stdout",
     "output_type": "stream",
     "text": [
      "[[0.         0.625      0.33333333]\n",
      " [0.         0.25       0.46666667]\n",
      " [0.         0.375      0.06666667]\n",
      " [0.         0.4375     0.        ]\n",
      " [0.         0.125      0.46666667]\n",
      " [0.         0.0625     0.13333333]\n",
      " [0.         0.125      0.13333333]\n",
      " [0.         0.0625     0.        ]\n",
      " [0.         0.1875     0.2       ]\n",
      " [0.         0.0625     0.06666667]\n",
      " [0.         0.1875     0.2       ]\n",
      " [0.         0.         0.        ]\n",
      " [0.         0.125      0.13333333]\n",
      " [0.         0.875      0.        ]\n",
      " [0.         0.125      0.33333333]\n",
      " [0.         0.         0.46666667]\n",
      " [0.         0.9375     0.66666667]\n",
      " [0.         0.         0.26666667]\n",
      " [0.         0.5625     0.13333333]\n",
      " [0.         0.25       0.93333333]\n",
      " [0.         0.875      0.2       ]\n",
      " [0.         0.5625     1.        ]\n",
      " [0.         0.875      0.        ]\n",
      " [0.         0.5        0.93333333]\n",
      " [0.         0.375      0.        ]\n",
      " [0.         0.1875     0.66666667]\n",
      " [0.         0.625      0.6       ]\n",
      " [0.         0.25       0.66666667]\n",
      " [0.         0.8125     0.2       ]\n",
      " [0.         0.25       0.86666667]\n",
      " [0.         1.         0.66666667]\n",
      " [0.         0.5        0.8       ]\n",
      " [0.         0.6875     0.4       ]\n",
      " [0.         0.1875     0.73333333]\n",
      " [0.         0.75       0.        ]\n",
      " [0.         0.1875     0.66666667]\n",
      " [0.         0.5625     0.2       ]\n",
      " [0.         0.5        0.06666667]\n",
      " [0.         0.25       0.06666667]\n",
      " [0.         0.         0.2       ]\n",
      " [0.         0.125      0.53333333]\n",
      " [0.         0.5        0.86666667]\n",
      " [0.         0.         0.13333333]\n",
      " [0.         0.375      0.2       ]\n",
      " [0.         0.         0.        ]\n",
      " [0.         0.         0.        ]\n",
      " [0.         0.         0.        ]\n",
      " [0.         0.         0.        ]\n",
      " [0.         0.0625     0.06666667]]\n"
     ]
    }
   ],
   "source": [
    "file_path_positive = '../data/positive_tweets.txt'\n",
    "file_path_negative = '../data/negative_tweets.txt'\n",
    "import math\n",
    "pos_freqs = build_freq(file_path_positive)  # Build frequency dictionary\n",
    "# print(\"The psoitive frequency\")\n",
    "# print(pos_freqs)\n",
    "neg_freqs = build_freq(file_path_negative)\n",
    "# print(\"The negative frquency\")\n",
    "# print(neg_freqs)\n",
    "word_f = word_freq(pos_freqs, neg_freqs, \"../data/sample_sentiment_text.txt\")\n",
    "#print(\"The frequency of the sentences ares \", word_f)\n",
    "matrix = extract_features(word_f)\n",
    "scaler = MinMaxScaler()\n",
    "matrix = scaler.fit_transform(matrix)\n",
    "\n",
    "print(matrix)"
   ]
  },
  {
   "cell_type": "code",
   "execution_count": 10,
   "metadata": {},
   "outputs": [
    {
     "name": "stdout",
     "output_type": "stream",
     "text": [
      "[[1]\n",
      " [0]\n",
      " [1]\n",
      " [1]\n",
      " [0]\n",
      " [1]\n",
      " [0]\n",
      " [0]\n",
      " [1]\n",
      " [1]\n",
      " [1]\n",
      " [1]\n",
      " [1]\n",
      " [1]\n",
      " [0]\n",
      " [0]\n",
      " [1]\n",
      " [0]\n",
      " [1]\n",
      " [0]\n",
      " [1]\n",
      " [0]\n",
      " [1]\n",
      " [0]\n",
      " [1]\n",
      " [0]\n",
      " [1]\n",
      " [0]\n",
      " [1]\n",
      " [0]\n",
      " [1]\n",
      " [0]\n",
      " [1]\n",
      " [0]\n",
      " [1]\n",
      " [0]]\n"
     ]
    }
   ],
   "source": [
    "import pandas as pd\n",
    "rate = 0.001\n",
    "#initialize some parameters\n",
    "parameter = np.array([0.005, 0.0001, 0.0001])\n",
    "b = 0.05\n",
    "df = pd.read_csv(\"../data/output.txt\")\n",
    "m = len(df)\n",
    "target = df.values\n",
    "print(target)"
   ]
  },
  {
   "cell_type": "code",
   "execution_count": 13,
   "metadata": {},
   "outputs": [],
   "source": [
    "#I am building my classification model\n",
    "#the logixtic model\n",
    "def model(matrix, parameter, b):\n",
    "    y_hat = []\n",
    "    for row in matrix:\n",
    "        feature = row\n",
    "        z = np.dot(feature, parameter) + b\n",
    "        g = 1/(1+(math.e)**(z))\n",
    "        y_hat.append(g)\n",
    "    return y_hat"
   ]
  },
  {
   "cell_type": "code",
   "execution_count": 14,
   "metadata": {},
   "outputs": [],
   "source": [
    "#getting my cost and loss functions\n",
    "import math\n",
    "#compute the loss function\n",
    "def loss_function(target, y_hat):\n",
    "    cost = 0\n",
    "    for x in range(m):\n",
    "        output = target[x,0]\n",
    "        loss = (-1 *output * math.log(y_hat[x])) - (1-output) * math.log(1-y_hat[x])\n",
    "        cost +=loss\n",
    "    cost =  cost/m\n",
    "    return cost"
   ]
  },
  {
   "cell_type": "code",
   "execution_count": 19,
   "metadata": {},
   "outputs": [
    {
     "name": "stdout",
     "output_type": "stream",
     "text": [
      "Beginning Parameters: [ 0.005      -0.41646871  0.38768447]\n",
      "beginning Bias: [-0.41260497]\n",
      "[0.94955939]\n",
      "[0.89112304]\n",
      "[0.96520564]\n",
      "[0.64113884]\n",
      "[0.6277887]\n",
      "[0.24706105]\n",
      "[0.6277887]\n",
      "[0.51217378]\n",
      "[0.31963527]\n",
      "[0.42306703]\n",
      "[0.60051346]\n",
      "[0.60051346]\n",
      "[0.60051346]\n",
      "[0.83983637]\n",
      "[0.60051346]\n"
     ]
    },
    {
     "ename": "IndexError",
     "evalue": "list index out of range",
     "output_type": "error",
     "traceback": [
      "\u001b[1;31m------------------------------------------\u001b[0m",
      "\u001b[1;31mIndexError\u001b[0mTraceback (most recent call last)",
      "Cell \u001b[1;32mIn[19], line 22\u001b[0m\n\u001b[0;32m     19\u001b[0m     \u001b[38;5;28;01mreturn\u001b[39;00m parameter, b\n\u001b[0;32m     21\u001b[0m iterations \u001b[38;5;241m=\u001b[39m \u001b[38;5;241m1000\u001b[39m\n\u001b[1;32m---> 22\u001b[0m parameter, b \u001b[38;5;241m=\u001b[39m \u001b[43mgradient_descent\u001b[49m\u001b[43m(\u001b[49m\u001b[43mmatrix\u001b[49m\u001b[43m,\u001b[49m\u001b[43m \u001b[49m\u001b[43mtarget\u001b[49m\u001b[43m,\u001b[49m\u001b[43m \u001b[49m\u001b[43mparameter\u001b[49m\u001b[43m,\u001b[49m\u001b[43m \u001b[49m\u001b[43mb\u001b[49m\u001b[43m,\u001b[49m\u001b[43m \u001b[49m\u001b[43mrate\u001b[49m\u001b[43m,\u001b[49m\u001b[43m \u001b[49m\u001b[43miterations\u001b[49m\u001b[43m)\u001b[49m\n\u001b[0;32m     23\u001b[0m \u001b[38;5;28mprint\u001b[39m(\u001b[38;5;124m\"\u001b[39m\u001b[38;5;124mUpdated Parameters:\u001b[39m\u001b[38;5;124m\"\u001b[39m, parameter)\n\u001b[0;32m     24\u001b[0m \u001b[38;5;28mprint\u001b[39m(\u001b[38;5;124m\"\u001b[39m\u001b[38;5;124mUpdated Bias:\u001b[39m\u001b[38;5;124m\"\u001b[39m, b)\n",
      "Cell \u001b[1;32mIn[19], line 10\u001b[0m, in \u001b[0;36mgradient_descent\u001b[1;34m(matrix, target, parameter, b, rate, iterations)\u001b[0m\n\u001b[0;32m      8\u001b[0m d_b \u001b[38;5;241m=\u001b[39m \u001b[38;5;241m0\u001b[39m\n\u001b[0;32m      9\u001b[0m \u001b[38;5;28;01mfor\u001b[39;00m i \u001b[38;5;129;01min\u001b[39;00m \u001b[38;5;28mrange\u001b[39m(m):\n\u001b[1;32m---> 10\u001b[0m     d_parameter \u001b[38;5;241m+\u001b[39m\u001b[38;5;241m=\u001b[39m (target[i] \u001b[38;5;241m-\u001b[39m \u001b[43my_hat\u001b[49m\u001b[43m[\u001b[49m\u001b[43mi\u001b[49m\u001b[43m]\u001b[49m) \u001b[38;5;241m*\u001b[39m matrix[i]\n\u001b[0;32m     11\u001b[0m     d_b \u001b[38;5;241m+\u001b[39m\u001b[38;5;241m=\u001b[39m (target[i] \u001b[38;5;241m-\u001b[39m y_hat[i])\n\u001b[0;32m     12\u001b[0m parameter \u001b[38;5;241m-\u001b[39m\u001b[38;5;241m=\u001b[39m (rate \u001b[38;5;241m/\u001b[39m m) \u001b[38;5;241m*\u001b[39m d_parameter\n",
      "\u001b[1;31mIndexError\u001b[0m: list index out of range"
     ]
    }
   ],
   "source": [
    "def gradient_descent(matrix, target, parameter, b, rate, iterations):\n",
    "    print(\"Beginning Parameters:\", parameter)\n",
    "    print(\"beginning Bias:\", b)\n",
    "    m = len(target)\n",
    "    for _ in range(iterations):\n",
    "        y_hat = model(matrix, parameter, b)\n",
    "        d_parameter = np.zeros_like(parameter)\n",
    "        d_b = 0\n",
    "        for i in range(m):\n",
    "            d_parameter += (target[i] - y_hat[i]) * matrix[i]\n",
    "            d_b += (target[i] - y_hat[i])\n",
    "        parameter -= (rate / m) * d_parameter\n",
    "        b -= (rate / m) * d_b\n",
    "        \n",
    "        if _ % 100 == 0:\n",
    "            cost = loss_function(target, y_hat)\n",
    "            print(f\"Iteration {_}, Cost: {cost}\")\n",
    "    \n",
    "    return parameter, b\n",
    "\n",
    "iterations = 1000\n",
    "parameter, b = gradient_descent(matrix, target, parameter, b, rate, iterations)\n",
    "print(\"Updated Parameters:\", parameter)\n",
    "print(\"Updated Bias:\", b)\n",
    "#feature increased so you have to adjust the parameters"
   ]
  },
  {
   "cell_type": "code",
   "execution_count": 16,
   "metadata": {},
   "outputs": [
    {
     "name": "stdout",
     "output_type": "stream",
     "text": [
      "The matrix of the functions are:  [[1. 7. 1.]\n",
      " [1. 5. 1.]\n",
      " [1. 7. 0.]\n",
      " [1. 6. 6.]\n",
      " [1. 4. 4.]\n",
      " [1. 1. 5.]\n",
      " [1. 4. 4.]\n",
      " [1. 1. 2.]\n",
      " [1. 0. 3.]\n",
      " [1. 2. 4.]\n",
      " [1. 0. 0.]\n",
      " [1. 0. 0.]\n",
      " [1. 0. 0.]\n",
      " [1. 3. 0.]\n",
      " [1. 0. 0.]]\n",
      "[0.94955939]\n",
      "[0.89112304]\n",
      "[0.96520564]\n",
      "[0.64113884]\n",
      "[0.6277887]\n",
      "[0.24706105]\n",
      "[0.6277887]\n",
      "[0.51217378]\n",
      "[0.31963527]\n",
      "[0.42306703]\n",
      "[0.60051346]\n",
      "[0.60051346]\n",
      "[0.60051346]\n",
      "[0.83983637]\n",
      "[0.60051346]\n"
     ]
    }
   ],
   "source": [
    "#test data\n",
    "decision_boundary = 0.5\n",
    "#Now the model has been trained, now it is time to test the model and see how accyrate it is. \n",
    "parameters = np.array([-0.45760497, -1.10344803, 1.04100168])\n",
    "b = [-0.41260497]\n",
    "\n",
    "def model(matrix, parameter, b):\n",
    "    y_hat = []\n",
    "    for row in matrix:\n",
    "        feature = row\n",
    "        z = np.dot(feature, parameter) + b\n",
    "        g = 1/(1+(math.e)**(z))\n",
    "        print(g)\n",
    "        y_hat.append(g)\n",
    "    return y_hat\n",
    "word_f = word_freq(pos_freqs, neg_freqs, \"../data/test_sample.txt\")\n",
    "#print(\"The frequency of the sentences are \", word_f)\n",
    "matrix = extract_features(word_f)\n",
    "print(\"The matrix of the functions are: \", matrix)\n",
    "y_hat = model(matrix, parameter, b)\n",
    "#print(\"The prediction of the statements are: \", y_hat)"
   ]
  },
  {
   "cell_type": "code",
   "execution_count": null,
   "metadata": {},
   "outputs": [],
   "source": []
  }
 ],
 "metadata": {
  "kernelspec": {
   "display_name": "Python (creditScore)",
   "language": "python",
   "name": "myenv"
  },
  "language_info": {
   "codemirror_mode": {
    "name": "ipython",
    "version": 3
   },
   "file_extension": ".py",
   "mimetype": "text/x-python",
   "name": "python",
   "nbconvert_exporter": "python",
   "pygments_lexer": "ipython3",
   "version": "3.12.3"
  }
 },
 "nbformat": 4,
 "nbformat_minor": 4
}
