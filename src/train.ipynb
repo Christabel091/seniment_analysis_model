{
 "cells": [
  {
   "cell_type": "code",
   "execution_count": 1,
   "metadata": {},
   "outputs": [
    {
     "name": "stderr",
     "output_type": "stream",
     "text": [
      "[nltk_data] Downloading package punkt to\n",
      "[nltk_data]     C:\\Users\\obinw\\AppData\\Roaming\\nltk_data...\n",
      "[nltk_data]   Package punkt is already up-to-date!\n",
      "[nltk_data] Downloading package stopwords to\n",
      "[nltk_data]     C:\\Users\\obinw\\AppData\\Roaming\\nltk_data...\n",
      "[nltk_data]   Package stopwords is already up-to-date!\n",
      "[nltk_data] Downloading package punkt to\n",
      "[nltk_data]     C:\\Users\\obinw\\AppData\\Roaming\\nltk_data...\n",
      "[nltk_data]   Package punkt is already up-to-date!\n",
      "[nltk_data] Downloading package stopwords to\n",
      "[nltk_data]     C:\\Users\\obinw\\AppData\\Roaming\\nltk_data...\n",
      "[nltk_data]   Package stopwords is already up-to-date!\n"
     ]
    }
   ],
   "source": [
    "import numpy as np\n",
    "import nltk # type: ignore \n",
    "nltk.download('punkt')\n",
    "nltk.download('stopwords')\n",
    "from nltk.tokenize import word_tokenize # type: ignore\n",
    "from nltk.corpus import stopwords # type: ignore\n",
    "import string\n",
    "import numpy as np\n",
    "from preprocess import extract_features, build_freq, word_freq\n",
    "from sklearn.preprocessing import MinMaxScaler\n"
   ]
  },
  {
   "cell_type": "code",
   "execution_count": 2,
   "metadata": {},
   "outputs": [
    {
     "name": "stdout",
     "output_type": "stream",
     "text": [
      "[[0.         0.625      0.33333333]\n",
      " [0.         0.25       0.46666667]\n",
      " [0.         0.375      0.06666667]\n",
      " [0.         0.4375     0.        ]\n",
      " [0.         0.125      0.46666667]\n",
      " [0.         0.0625     0.13333333]\n",
      " [0.         0.125      0.13333333]\n",
      " [0.         0.0625     0.        ]\n",
      " [0.         0.1875     0.2       ]\n",
      " [0.         0.0625     0.06666667]\n",
      " [0.         0.1875     0.2       ]\n",
      " [0.         0.         0.        ]\n",
      " [0.         0.125      0.13333333]\n",
      " [0.         0.875      0.        ]\n",
      " [0.         0.125      0.33333333]\n",
      " [0.         0.         0.46666667]\n",
      " [0.         0.9375     0.66666667]\n",
      " [0.         0.         0.26666667]\n",
      " [0.         0.5625     0.13333333]\n",
      " [0.         0.25       0.93333333]\n",
      " [0.         0.875      0.2       ]\n",
      " [0.         0.5625     1.        ]\n",
      " [0.         0.875      0.        ]\n",
      " [0.         0.5        0.93333333]\n",
      " [0.         0.375      0.        ]\n",
      " [0.         0.1875     0.66666667]\n",
      " [0.         0.625      0.6       ]\n",
      " [0.         0.25       0.66666667]\n",
      " [0.         0.8125     0.2       ]\n",
      " [0.         0.25       0.86666667]\n",
      " [0.         1.         0.66666667]\n",
      " [0.         0.5        0.8       ]\n",
      " [0.         0.6875     0.4       ]\n",
      " [0.         0.1875     0.73333333]\n",
      " [0.         0.75       0.        ]\n",
      " [0.         0.1875     0.66666667]\n",
      " [0.         0.5625     0.2       ]\n",
      " [0.         0.5        0.06666667]\n",
      " [0.         0.25       0.06666667]\n",
      " [0.         0.         0.2       ]\n",
      " [0.         0.125      0.53333333]\n",
      " [0.         0.5        0.86666667]\n",
      " [0.         0.         0.13333333]\n",
      " [0.         0.375      0.2       ]\n",
      " [0.         0.         0.        ]\n",
      " [0.         0.         0.        ]\n",
      " [0.         0.         0.        ]\n",
      " [0.         0.         0.        ]\n",
      " [0.         0.0625     0.06666667]]\n"
     ]
    }
   ],
   "source": [
    "file_path_positive = '../data/positive_tweets.txt'\n",
    "file_path_negative = '../data/negative_tweets.txt'\n",
    "import math\n",
    "pos_freqs = build_freq(file_path_positive)  # Build frequency dictionary\n",
    "# print(\"The psoitive frequency\")\n",
    "# print(pos_freqs)\n",
    "neg_freqs = build_freq(file_path_negative)\n",
    "# print(\"The negative frquency\")\n",
    "# print(neg_freqs)\n",
    "word_f = word_freq(pos_freqs, neg_freqs, \"../data/sample_sentiment_text.txt\")\n",
    "#print(\"The frequency of the sentences ares \", word_f)\n",
    "matrix = extract_features(word_f)\n",
    "scaler = MinMaxScaler()\n",
    "matrix = scaler.fit_transform(matrix)\n",
    "\n",
    "print(matrix)"
   ]
  },
  {
   "cell_type": "code",
   "execution_count": 3,
   "metadata": {},
   "outputs": [
    {
     "name": "stdout",
     "output_type": "stream",
     "text": [
      "[[1]\n",
      " [0]\n",
      " [1]\n",
      " [1]\n",
      " [0]\n",
      " [1]\n",
      " [1]\n",
      " [0]\n",
      " [1]\n",
      " [1]\n",
      " [1]\n",
      " [1]\n",
      " [1]\n",
      " [1]\n",
      " [0]\n",
      " [0]\n",
      " [1]\n",
      " [0]\n",
      " [1]\n",
      " [0]\n",
      " [1]\n",
      " [0]\n",
      " [1]\n",
      " [0]\n",
      " [1]\n",
      " [0]\n",
      " [1]\n",
      " [0]\n",
      " [1]\n",
      " [0]\n",
      " [1]\n",
      " [0]\n",
      " [1]\n",
      " [0]\n",
      " [1]\n",
      " [0]\n",
      " [1]\n",
      " [1]\n",
      " [1]\n",
      " [0]\n",
      " [0]\n",
      " [0]\n",
      " [0]\n",
      " [0]\n",
      " [1]\n",
      " [1]\n",
      " [1]\n",
      " [1]\n",
      " [1]]\n"
     ]
    }
   ],
   "source": [
    "import pandas as pd\n",
    "#initialize some parameters\n",
    "parameter = np.array([0.005, 0.0001, 0.0001])\n",
    "b = 0.05\n",
    "df = pd.read_csv(\"../data/output.txt\")\n",
    "m = len(df)\n",
    "target = df.values\n",
    "print(target)"
   ]
  },
  {
   "cell_type": "code",
   "execution_count": 4,
   "metadata": {},
   "outputs": [],
   "source": [
    "#I am building my classification model\n",
    "#the logixtic model\n",
    "def model(matrix, parameter, b):\n",
    "    y_hat = []\n",
    "    for row in matrix:\n",
    "        feature = row\n",
    "        z = np.dot(feature, parameter) + b\n",
    "        g =  1 / (1 + np.exp(-z))\n",
    "        y_hat.append(g)\n",
    "    return np.array(y_hat)"
   ]
  },
  {
   "cell_type": "code",
   "execution_count": 5,
   "metadata": {},
   "outputs": [],
   "source": [
    "#getting my cost and loss functions\n",
    "import math\n",
    "#compute the loss function\n",
    "def loss_function(target, y_hat):\n",
    "    cost = 0\n",
    "    for x in range(m):\n",
    "        output = target[x,0]\n",
    "        loss = (-output * math.log(y_hat[x])) - ((1 - output) * math.log(1 - y_hat[x]))\n",
    "        cost += loss\n",
    "    cost =  cost/m\n",
    "    return cost"
   ]
  },
  {
   "cell_type": "code",
   "execution_count": 18,
   "metadata": {},
   "outputs": [
    {
     "name": "stdout",
     "output_type": "stream",
     "text": [
      "Beginning Parameters: [ 0.005       0.07612883 -0.06773525]\n",
      "beginning Bias: [-0.04217752]\n",
      "Iteration 0, Cost: 0.6868688945618382\n",
      "Iteration 100, Cost: 0.6869043059106783\n",
      "Iteration 200, Cost: 0.6869910961628841\n"
     ]
    },
    {
     "name": "stderr",
     "output_type": "stream",
     "text": [
      "C:\\Users\\obinw\\AppData\\Local\\Temp\\ipykernel_8212\\3223544191.py:8: DeprecationWarning: Conversion of an array with ndim > 0 to a scalar is deprecated, and will error in future. Ensure you extract a single element from your array before performing this operation. (Deprecated NumPy 1.25.)\n",
      "  loss = (-output * math.log(y_hat[x])) - ((1 - output) * math.log(1 - y_hat[x]))\n"
     ]
    },
    {
     "name": "stdout",
     "output_type": "stream",
     "text": [
      "Iteration 300, Cost: 0.6871311568054101\n",
      "Iteration 400, Cost: 0.6873264531791123\n",
      "Iteration 500, Cost: 0.6875790268672173\n",
      "Iteration 600, Cost: 0.6878909981107081\n",
      "Iteration 700, Cost: 0.6882645682450553\n",
      "Iteration 800, Cost: 0.6887020221519861\n",
      "Iteration 900, Cost: 0.6892057307191684\n",
      "Updated Parameters: [ 0.005       0.15799021 -0.12671959]\n",
      "Updated Bias: [-0.15638033]\n"
     ]
    }
   ],
   "source": [
    "def gradient_descent(matrix, target, parameter, b, rate, iterations):\n",
    "    print(\"Beginning Parameters:\", parameter)\n",
    "    print(\"beginning Bias:\", b)\n",
    "    m = len(target)\n",
    "    for _ in range(iterations):\n",
    "        y_hat = model(matrix, parameter, b)\n",
    "        d_parameter = np.zeros_like(parameter)\n",
    "        d_b = 0\n",
    "        for i in range(m):\n",
    "            error = (target[i]- y_hat[i])\n",
    "            d_parameter += error * matrix[i]\n",
    "            d_b += error\n",
    "        parameter += (rate / m) * d_parameter\n",
    "        b -= (rate / m) * d_b\n",
    "        \n",
    "        if _ % 100 == 0:\n",
    "            cost = loss_function(target, y_hat)\n",
    "            print(f\"Iteration {_}, Cost: {cost}\")\n",
    "    \n",
    "    return parameter, b\n",
    "rate = 0.001\n",
    "iterations = 1000\n",
    "\n",
    "parameter, b = gradient_descent(matrix, target, parameter, b, rate, iterations)\n",
    "print(\"Updated Parameters:\", parameter)\n",
    "print(\"Updated Bias:\", b)\n",
    "#feature increased so you have to adjust the parameters"
   ]
  },
  {
   "cell_type": "code",
   "execution_count": null,
   "metadata": {},
   "outputs": [],
   "source": []
  },
  {
   "cell_type": "code",
   "execution_count": 24,
   "metadata": {},
   "outputs": [
    {
     "name": "stdout",
     "output_type": "stream",
     "text": [
      "The prediction of the statements are:  [[0.70606911]\n",
      " [0.49070669]\n",
      " [0.54959041]\n",
      " [0.39288639]\n",
      " [0.56643922]\n",
      " [0.47798284]\n",
      " [0.62342656]\n",
      " [0.51183401]\n",
      " [0.63919066]\n",
      " [0.4401919 ]\n",
      " [0.5870686 ]\n",
      " [0.49280451]\n",
      " [0.56643922]\n",
      " [0.43385236]\n",
      " [0.4443327 ]\n",
      " [0.56643922]\n",
      " [0.54543154]\n",
      " [0.4443327 ]\n",
      " [0.62735937]\n",
      " [0.4401919 ]]\n"
     ]
    }
   ],
   "source": [
    "#test data\n",
    "decision_boundary = 0.5\n",
    "#Now the model has been trained, now it is time to test the model and see how accyrate it is. \n",
    "parameter = [ 0.005, 0.07612883, -0.06773525]\n",
    "b= [-0.04217752]\n",
    "word_f = word_freq(pos_freqs, neg_freqs, \"../output/test_sample.txt\")\n",
    "#print(\"The frequency of the sentences are \", word_f)\n",
    "matrix = extract_features(word_f)\n",
    "#print(\"The matric is \", matrix)\n",
    "y_hat = model(matrix, parameter, b)\n",
    "print(\"The prediction of the statements are: \", y_hat)"
   ]
  },
  {
   "cell_type": "code",
   "execution_count": 36,
   "metadata": {},
   "outputs": [
    {
     "name": "stdout",
     "output_type": "stream",
     "text": [
      "tweet is a nice tweet\n",
      "Tweet is a negative tweet.\n",
      "tweet is a nice tweet\n",
      "Tweet is a negative tweet.\n",
      "tweet is a nice tweet\n",
      "Tweet is a negative tweet.\n",
      "tweet is a nice tweet\n",
      "tweet is a nice tweet\n",
      "tweet is a nice tweet\n",
      "Tweet is a negative tweet.\n",
      "tweet is a nice tweet\n",
      "Tweet is a negative tweet.\n",
      "tweet is a nice tweet\n",
      "Tweet is a negative tweet.\n",
      "Tweet is a negative tweet.\n",
      "tweet is a nice tweet\n",
      "tweet is a nice tweet\n",
      "Tweet is a negative tweet.\n",
      "tweet is a nice tweet\n",
      "Tweet is a negative tweet.\n"
     ]
    }
   ],
   "source": [
    "decision_boundary = 0.5\n",
    "with open(\"../output/predicted.txt\", \"w\") as file:\n",
    "    for row in y_hat:\n",
    "        if row[0] > decision_boundary:\n",
    "            file.write(\"tweet is a nice tweet\" + \"\\n\")\n",
    "            print(\"tweet is a nice tweet\")\n",
    "        else:\n",
    "            print(\"Tweet is a negative tweet.\")\n",
    "            file.write(\"tweet is a negative tweet\"+ \"\\n\")"
   ]
  },
  {
   "cell_type": "code",
   "execution_count": null,
   "metadata": {},
   "outputs": [],
   "source": []
  }
 ],
 "metadata": {
  "kernelspec": {
   "display_name": "Python (creditScore)",
   "language": "python",
   "name": "myenv"
  },
  "language_info": {
   "codemirror_mode": {
    "name": "ipython",
    "version": 3
   },
   "file_extension": ".py",
   "mimetype": "text/x-python",
   "name": "python",
   "nbconvert_exporter": "python",
   "pygments_lexer": "ipython3",
   "version": "3.12.3"
  }
 },
 "nbformat": 4,
 "nbformat_minor": 4
}
