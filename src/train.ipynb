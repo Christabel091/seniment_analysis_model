{
 "cells": [
  {
   "cell_type": "code",
   "execution_count": 20,
   "metadata": {},
   "outputs": [
    {
     "name": "stderr",
     "output_type": "stream",
     "text": [
      "[nltk_data] Downloading package punkt to\n",
      "[nltk_data]     C:\\Users\\obinw\\AppData\\Roaming\\nltk_data...\n",
      "[nltk_data]   Package punkt is already up-to-date!\n",
      "[nltk_data] Downloading package stopwords to\n",
      "[nltk_data]     C:\\Users\\obinw\\AppData\\Roaming\\nltk_data...\n",
      "[nltk_data]   Package stopwords is already up-to-date!\n"
     ]
    }
   ],
   "source": [
    "import numpy as np\n",
    "import nltk # type: ignore \n",
    "nltk.download('punkt')\n",
    "nltk.download('stopwords')\n",
    "from nltk.tokenize import word_tokenize # type: ignore\n",
    "from nltk.corpus import stopwords # type: ignore\n",
    "import string\n",
    "import numpy as np\n",
    "from preprocess import extract_features, build_freq, word_freq\n",
    "from sklearn.preprocessing import MinMaxScaler\n"
   ]
  },
  {
   "cell_type": "code",
   "execution_count": 87,
   "metadata": {},
   "outputs": [
    {
     "name": "stdout",
     "output_type": "stream",
     "text": [
      "[[0.         0.625      0.33333333]\n",
      " [0.         0.25       0.46666667]\n",
      " [0.         0.375      0.06666667]\n",
      " [0.         0.4375     0.        ]\n",
      " [0.         0.125      0.46666667]\n",
      " [0.         0.0625     0.13333333]\n",
      " [0.         0.125      0.13333333]\n",
      " [0.         0.0625     0.        ]\n",
      " [0.         0.1875     0.2       ]\n",
      " [0.         0.0625     0.06666667]\n",
      " [0.         0.1875     0.2       ]\n",
      " [0.         0.         0.        ]\n",
      " [0.         0.125      0.13333333]\n",
      " [0.         0.875      0.        ]\n",
      " [0.         0.125      0.33333333]\n",
      " [0.         0.         0.46666667]\n",
      " [0.         0.9375     0.66666667]\n",
      " [0.         0.         0.26666667]\n",
      " [0.         0.5625     0.13333333]\n",
      " [0.         0.25       0.93333333]\n",
      " [0.         0.875      0.2       ]\n",
      " [0.         0.5625     1.        ]\n",
      " [0.         0.875      0.        ]\n",
      " [0.         0.5        0.93333333]\n",
      " [0.         0.375      0.        ]\n",
      " [0.         0.1875     0.66666667]\n",
      " [0.         0.625      0.6       ]\n",
      " [0.         0.25       0.66666667]\n",
      " [0.         0.8125     0.2       ]\n",
      " [0.         0.25       0.86666667]\n",
      " [0.         1.         0.66666667]\n",
      " [0.         0.5        0.8       ]\n",
      " [0.         0.6875     0.4       ]\n",
      " [0.         0.1875     0.73333333]\n",
      " [0.         0.75       0.        ]\n",
      " [0.         0.1875     0.66666667]]\n"
     ]
    }
   ],
   "source": [
    "file_path_positive = '../data/positive_tweets.txt'\n",
    "file_path_negative = '../data/negative_tweets.txt'\n",
    "import math\n",
    "pos_freqs = build_freq(file_path_positive)  # Build frequency dictionary\n",
    "# print(\"The psoitive frequency\")\n",
    "# print(pos_freqs)\n",
    "neg_freqs = build_freq(file_path_negative)\n",
    "# print(\"The negative frquency\")\n",
    "# print(neg_freqs)\n",
    "word_f = word_freq(pos_freqs, neg_freqs, \"../data/sample_sentiment_text.txt\")\n",
    "#print(\"The frequency of the sentences ares \", word_f)\n",
    "matrix = extract_features(word_f)\n",
    "scaler = MinMaxScaler()\n",
    "matrix = scaler.fit_transform(matrix)\n",
    "\n",
    "print(matrix)"
   ]
  },
  {
   "cell_type": "code",
   "execution_count": 128,
   "metadata": {},
   "outputs": [
    {
     "name": "stdout",
     "output_type": "stream",
     "text": [
      "[[1]\n",
      " [0]\n",
      " [1]\n",
      " [1]\n",
      " [0]\n",
      " [1]\n",
      " [0]\n",
      " [0]\n",
      " [1]\n",
      " [1]\n",
      " [1]\n",
      " [1]\n",
      " [1]\n",
      " [1]\n",
      " [0]\n",
      " [0]\n",
      " [1]\n",
      " [0]\n",
      " [1]\n",
      " [0]\n",
      " [1]\n",
      " [0]\n",
      " [1]\n",
      " [0]\n",
      " [1]\n",
      " [0]\n",
      " [1]\n",
      " [0]\n",
      " [1]\n",
      " [0]\n",
      " [1]\n",
      " [0]\n",
      " [1]\n",
      " [0]\n",
      " [1]\n",
      " [0]]\n"
     ]
    }
   ],
   "source": [
    "import pandas as pd\n",
    "rate = 0.001\n",
    "#initialize some parameters\n",
    "parameter = np.array([0.005, 0.0001, 0.0001])\n",
    "b = 0.05\n",
    "df = pd.read_csv(\"../data/output.txt\")\n",
    "m = len(df)\n",
    "target = df.values\n",
    "print(target)"
   ]
  },
  {
   "cell_type": "code",
   "execution_count": 129,
   "metadata": {},
   "outputs": [
    {
     "name": "stdout",
     "output_type": "stream",
     "text": [
      "[0.45239463635418925, 0.45983671857787534, 0.46978685356447, 0.46978685356447, 0.46480828456469886, 0.4797610644281854, 0.4797610644281854, 0.4847547270119201, 0.4722784572508355, 0.48225745272227183, 0.4722784572508355, 0.4872527628438865, 0.47726568640604844, 0.4573538673545378, 0.46978685356447, 0.46978685356447]\n"
     ]
    }
   ],
   "source": [
    "#I am building my classification model\n",
    "#the logixtic model\n",
    "def model(matrix, parameter, b):\n",
    "    y_hat = []\n",
    "    for row in matrix:\n",
    "        feature = row\n",
    "        z = np.dot(feature, parameter) + b\n",
    "        g = 1/(1+(math.e)**(z))\n",
    "        y_hat.append(g)\n",
    "    return y_hat\n",
    "print(y_hat)"
   ]
  },
  {
   "cell_type": "code",
   "execution_count": 130,
   "metadata": {},
   "outputs": [],
   "source": [
    "#getting my cost and loss functions\n",
    "import math\n",
    "#compute the loss function\n",
    "def loss_function(target, y_hat):\n",
    "    cost = 0\n",
    "    for x in range(m):\n",
    "        output = target[x,0]\n",
    "        loss = (-1 *output * math.log(y_hat[x])) - (1-output) * math.log(1-y_hat[x])\n",
    "        cost +=loss\n",
    "    cost =  cost/m\n",
    "    return cost"
   ]
  },
  {
   "cell_type": "code",
   "execution_count": 131,
   "metadata": {},
   "outputs": [
    {
     "name": "stdout",
     "output_type": "stream",
     "text": [
      "Iteration 0, Cost: 0.6962404265671059\n",
      "Iteration 100, Cost: 0.6982257229180159\n"
     ]
    },
    {
     "name": "stderr",
     "output_type": "stream",
     "text": [
      "C:\\Users\\obinw\\AppData\\Local\\Temp\\ipykernel_96060\\165366476.py:8: DeprecationWarning: Conversion of an array with ndim > 0 to a scalar is deprecated, and will error in future. Ensure you extract a single element from your array before performing this operation. (Deprecated NumPy 1.25.)\n",
      "  loss = (-1 *output * math.log(y_hat[x])) - (1-output) * math.log(1-y_hat[x])\n"
     ]
    },
    {
     "name": "stdout",
     "output_type": "stream",
     "text": [
      "Iteration 200, Cost: 0.7002528000923327\n",
      "Iteration 300, Cost: 0.70232404167878\n",
      "Iteration 400, Cost: 0.7044419853399949\n",
      "Iteration 500, Cost: 0.7066093322819467\n",
      "Iteration 600, Cost: 0.7088289572113871\n",
      "Iteration 700, Cost: 0.7111039187917865\n",
      "Iteration 800, Cost: 0.7134374706058464\n",
      "Iteration 900, Cost: 0.7158330726297969\n",
      "Updated Parameters: [ 0.005      0.1059939 -0.0668421]\n",
      "Updated Bias: [0.12934097]\n"
     ]
    }
   ],
   "source": [
    "def gradient_descent(matrix, target, parameter, b, rate, iterations):\n",
    "    print(\"Beginning Parameters:\", parameter)\n",
    "    print(\"beginning Bias:\", b)\n",
    "    m = len(target)\n",
    "    for _ in range(iterations):\n",
    "        y_hat = model(matrix, parameter, b)\n",
    "        d_parameter = np.zeros_like(parameter)\n",
    "        d_b = 0\n",
    "        for i in range(m):\n",
    "            d_parameter += (target[i] - y_hat[i]) * matrix[i]\n",
    "            d_b += (target[i] - y_hat[i])\n",
    "        parameter -= (rate / m) * d_parameter\n",
    "        b -= (rate / m) * d_b\n",
    "        \n",
    "        if _ % 100 == 0:\n",
    "            cost = loss_function(target, y_hat)\n",
    "            print(f\"Iteration {_}, Cost: {cost}\")\n",
    "    \n",
    "    return parameter, b\n",
    "\n",
    "iterations = 5000\n",
    "parameter, b = gradient_descent(matrix, target, parameter, b, rate, iterations)\n",
    "print(\"Updated Parameters:\", parameter)\n",
    "print(\"Updated Bias:\", b)\n"
   ]
  },
  {
   "cell_type": "code",
   "execution_count": 1,
   "metadata": {},
   "outputs": [
    {
     "ename": "NameError",
     "evalue": "name 'np' is not defined",
     "output_type": "error",
     "traceback": [
      "\u001b[1;31m---------------------------------------------------------------------------\u001b[0m",
      "\u001b[1;31mNameError\u001b[0m                                 Traceback (most recent call last)",
      "Cell \u001b[1;32mIn[1], line 4\u001b[0m\n\u001b[0;32m      2\u001b[0m decision_boundary \u001b[38;5;241m=\u001b[39m \u001b[38;5;241m0.5\u001b[39m\n\u001b[0;32m      3\u001b[0m \u001b[38;5;66;03m#Now the model has been trained, now it is time to test the model and see how accyrate it is. \u001b[39;00m\n\u001b[1;32m----> 4\u001b[0m parameters \u001b[38;5;241m=\u001b[39m \u001b[43mnp\u001b[49m\u001b[38;5;241m.\u001b[39marray([\u001b[38;5;241m-\u001b[39m\u001b[38;5;241m0.45760497\u001b[39m, \u001b[38;5;241m-\u001b[39m\u001b[38;5;241m1.10344803\u001b[39m, \u001b[38;5;241m1.04100168\u001b[39m])\n\u001b[0;32m      5\u001b[0m b \u001b[38;5;241m=\u001b[39m [\u001b[38;5;241m-\u001b[39m\u001b[38;5;241m0.41260497\u001b[39m]\n\u001b[0;32m      7\u001b[0m \u001b[38;5;28;01mdef\u001b[39;00m \u001b[38;5;21mmodel\u001b[39m(matrix, parameter, b):\n",
      "\u001b[1;31mNameError\u001b[0m: name 'np' is not defined"
     ]
    }
   ],
   "source": [
    "#test data\n",
    "decision_boundary = 0.5\n",
    "#Now the model has been trained, now it is time to test the model and see how accyrate it is. \n",
    "parameters = np.array([-0.45760497, -1.10344803, 1.04100168])\n",
    "b = [-0.41260497]\n",
    "\n",
    "def model(matrix, parameter, b):\n",
    "    y_hat = []\n",
    "    for row in matrix:\n",
    "        feature = row\n",
    "        z = np.dot(feature, parameter) + b\n",
    "        g = 1/(1+(math.e)**(z))\n",
    "        print(g)\n",
    "        y_hat.append(g)\n",
    "    return y_hat\n",
    "word_f = word_freq(pos_freqs, neg_freqs, \"../data/test_sample.txt\")\n",
    "#print(\"The frequency of the sentences are \", word_f)\n",
    "matrix = extract_features(word_f)\n",
    "print(\"The matrix of the functions are: \", matrix)\n",
    "y_hat = model(matrix, parameter, b)\n",
    "#print(\"The prediction of the statements are: \", y_hat)"
   ]
  }
 ],
 "metadata": {
  "kernelspec": {
   "display_name": "Python (creditScore)",
   "language": "python",
   "name": "myenv"
  },
  "language_info": {
   "codemirror_mode": {
    "name": "ipython",
    "version": 3
   },
   "file_extension": ".py",
   "mimetype": "text/x-python",
   "name": "python",
   "nbconvert_exporter": "python",
   "pygments_lexer": "ipython3",
   "version": "3.12.3"
  }
 },
 "nbformat": 4,
 "nbformat_minor": 4
}
